{
 "cells": [
  {
   "cell_type": "markdown",
   "metadata": {},
   "source": [
    "# data reading"
   ]
  },
  {
   "cell_type": "code",
   "execution_count": 1,
   "metadata": {},
   "outputs": [],
   "source": [
    "%reload_ext autoreload\n",
    "%autoreload 2\n",
    "\n",
    "from utils import *\n",
    "import matplotlib.pyplot as plt\n",
    "import seaborn as sns\n",
    "from sklearn.metrics import f1_score, accuracy_score, precision_score, recall_score, make_scorer\n",
    "from sklearn.model_selection import train_test_split\n",
    "from time import time\n",
    "from tqdm import tqdm"
   ]
  },
  {
   "cell_type": "code",
   "execution_count": 2,
   "metadata": {},
   "outputs": [],
   "source": [
    "df_train = read_data('data/train', 'training')\n",
    "df_test = read_data('data/test', 'test')"
   ]
  },
  {
   "cell_type": "markdown",
   "metadata": {},
   "source": [
    "# data exploration"
   ]
  },
  {
   "cell_type": "code",
   "execution_count": 3,
   "metadata": {},
   "outputs": [],
   "source": [
    "df_train['label_text'] = df_train['label'].map({0: \"non-harmful\",\n",
    "                                                1: \"cyberbullying\",\n",
    "                                                2: \"hate-speech\"})"
   ]
  },
  {
   "cell_type": "code",
   "execution_count": 4,
   "metadata": {},
   "outputs": [
    {
     "data": {
      "image/png": "[encoded data removed]",
      "text/plain": [
       "<Figure size 504x504 with 1 Axes>"
      ]
     },
     "metadata": {},
     "output_type": "display_data"
    }
   ],
   "source": [
    "plt.figure(figsize = (7,7))\n",
    "sorted_counts = df_train['label_text'].value_counts()\n",
    "plt.pie(sorted_counts, labels = sorted_counts.index, startangle = 90, counterclock = False, wedgeprops = {'width' : 0.6},\n",
    "       autopct='%1.1f%%', pctdistance = 0.7, textprops = {'color': 'black', 'fontsize' : 13}, shadow = True,\n",
    "        colors = sns.color_palette(\"Paired\")[7:])\n",
    "plt.text(x = -0.35, y = 0, s = 'Total Tweets: {}'.format(df_train.shape[0]))\n",
    "plt.title('Distribution of Tweets in the Dataset', fontsize = 16);"
   ]
  },
  {
   "cell_type": "markdown",
   "metadata": {},
   "source": [
    "### create validation set for model validaiton during training"
   ]
  },
  {
   "cell_type": "code",
   "execution_count": 5,
   "metadata": {},
   "outputs": [
    {
     "name": "stdout",
     "output_type": "stream",
     "text": [
      "Number of rows in the total set: 10041\n",
      "Number of rows in the training set: 7530\n",
      "Number of rows in the test set: 1000\n"
     ]
    }
   ],
   "source": [
    "X_train, y_train = df_train[['text']], df_train[['label']]\n",
    "X_test, y_test = df_test[['text']], df_test[['label']]\n",
    "\n",
    "X_train, X_val, y_train, y_val = train_test_split(X_train, \n",
    "                                                 y_train, \n",
    "                                                 random_state=42)\n",
    "\n",
    "print('Number of rows in the total set: {}'.format(df_train.shape[0]))\n",
    "print('Number of rows in the training set: {}'.format(X_train.shape[0]))\n",
    "print('Number of rows in the test set: {}'.format(X_test.shape[0]))"
   ]
  },
  {
   "cell_type": "markdown",
   "metadata": {},
   "source": [
    "# data cleaning"
   ]
  },
  {
   "cell_type": "code",
   "execution_count": 6,
   "metadata": {},
   "outputs": [],
   "source": [
    "def clean_tweet(tweet):\n",
    "    \"\"\"\n",
    "    Function that cleans a single tweet\n",
    "    \"\"\"\n",
    "    entry = SentenceCleaner(tweet)\n",
    "    entry.html_tag()\n",
    "    entry.urls()\n",
    "    entry.handle()\n",
    "    entry.hashtag()\n",
    "    entry.tolowercase()\n",
    "    return entry.sentence\n"
   ]
  },
  {
   "cell_type": "code",
   "execution_count": 7,
   "metadata": {},
   "outputs": [
    {
     "name": "stderr",
     "output_type": "stream",
     "text": [
      "/home/michalnarbutt/misc/cyberbullying-detector/utils.py:59: GuessedAtParserWarning: No parser was explicitly specified, so I'm using the best available HTML parser for this system (\"html.parser\"). This usually isn't a problem, but if you run this code on another system, or in a different virtual environment, it may use a different parser and behave differently.\n",
      "\n",
      "The code that caused this warning is on line 59 of the file /home/michalnarbutt/misc/cyberbullying-detector/utils.py. To get rid of this warning, pass the additional argument 'features=\"html.parser\"' to the BeautifulSoup constructor.\n",
      "\n",
      "  self.sentence = BeautifulSoup(self.sentence).get_text()\n"
     ]
    }
   ],
   "source": [
    "X_train = X_train['text'].apply(clean_tweet)\n",
    "X_val = X_val['text'].apply(clean_tweet)\n",
    "X_test = X_test['text'].apply(clean_tweet)"
   ]
  },
  {
   "cell_type": "code",
   "execution_count": 8,
   "metadata": {},
   "outputs": [
    {
     "data": {
      "text/plain": [
       "4156    użytkownik użytkownik a ci co nie głosowali? w...\n",
       "3065    matka każe mi iść ze sobą do kościoła xddddddd...\n",
       "472     użytkownik użytkownik użytkownik w końcu jakiś...\n",
       "2554     po maturze, chodziliśmy na carpaccio z tuńczyka.\n",
       "6001    użytkownik jakby się okazało że nie mają dużo ...\n",
       "                              ...                        \n",
       "5734    rt użytkownik dobrze, że są ujawniane te afery...\n",
       "5191    użytkownik a mówiłaś mu, ze ktoś tam cię przep...\n",
       "5390    wczoraj oddaliśmy tu 2200 głosów na gortata. d...\n",
       "860     a jarkacz siedzi z kotem i patrzy jak maszyna ...\n",
       "7270    użytkownik no to super dziennikarz przeprowadz...\n",
       "Name: text, Length: 7530, dtype: object"
      ]
     },
     "execution_count": 8,
     "metadata": {},
     "output_type": "execute_result"
    }
   ],
   "source": [
    "X_train"
   ]
  },
  {
   "cell_type": "markdown",
   "metadata": {},
   "source": [
    "# pre-trained Polish Bert embeddings"
   ]
  },
  {
   "cell_type": "code",
   "execution_count": 9,
   "metadata": {},
   "outputs": [],
   "source": [
    "from polishbert import *\n",
    "embeddings, tokenizer = load_embeddings(model_dir = \"roberta_base_transformers\")"
   ]
  },
  {
   "cell_type": "code",
   "execution_count": 10,
   "metadata": {},
   "outputs": [
    {
     "data": {
      "text/plain": [
       "'1.2.0'"
      ]
     },
     "execution_count": 10,
     "metadata": {},
     "output_type": "execute_result"
    }
   ],
   "source": [
    "torch.__version__"
   ]
  },
  {
   "cell_type": "code",
   "execution_count": 11,
   "metadata": {},
   "outputs": [
    {
     "data": {
      "text/plain": [
       "device(type='cuda', index=0)"
      ]
     },
     "execution_count": 11,
     "metadata": {},
     "output_type": "execute_result"
    }
   ],
   "source": [
    "device = torch.device(\"cuda:0\" if torch.cuda.is_available() else \"cpu\")\n",
    "device"
   ]
  },
  {
   "cell_type": "code",
   "execution_count": 12,
   "metadata": {},
   "outputs": [
    {
     "data": {
      "text/plain": [
       "30"
      ]
     },
     "execution_count": 12,
     "metadata": {},
     "output_type": "execute_result"
    }
   ],
   "source": [
    "max_seq = X_train.map(lambda x: len(x.split(\" \"))).max()\n",
    "max_seq"
   ]
  },
  {
   "cell_type": "code",
   "execution_count": 15,
   "metadata": {},
   "outputs": [
    {
     "name": "stdout",
     "output_type": "stream",
     "text": [
      "CPU times: user 0 ns, sys: 0 ns, total: 0 ns\n",
      "Wall time: 5.25 µs\n"
     ]
    }
   ],
   "source": [
    "%time\n",
    "train_indices = tokenize_and_pad_text(X_train, max_seq, tokenizer).to(device)\n",
    "val_indices = tokenize_and_pad_text(X_val, max_seq, tokenizer).to(device)\n",
    "test_indices = tokenize_and_pad_text(X_test, max_seq, tokenizer).to(device)"
   ]
  },
  {
   "cell_type": "code",
   "execution_count": 16,
   "metadata": {},
   "outputs": [],
   "source": [
    "embeddings = embeddings.to(device)"
   ]
  },
  {
   "cell_type": "markdown",
   "metadata": {},
   "source": [
    "#### extract in batches due to the sheer size of the vector which cant fit in gpu memory and will take ages on the cpu\n",
    "\n"
   ]
  },
  {
   "cell_type": "code",
   "execution_count": 18,
   "metadata": {},
   "outputs": [
    {
     "name": "stdout",
     "output_type": "stream",
     "text": [
      "train\n",
      "val\n",
      "test\n",
      "CPU times: user 16.5 s, sys: 4.61 s, total: 21.1 s\n",
      "Wall time: 20.8 s\n"
     ]
    }
   ],
   "source": [
    "%%time\n",
    "\n",
    "X_train = extract_in_batches(train_indices, embeddings, batch_size=30)\n",
    "print(\"train\")\n",
    "X_val = extract_in_batches(val_indices, embeddings, batch_size=30)\n",
    "print(\"val\")\n",
    "X_test = extract_in_batches(test_indices, embeddings, batch_size=30)\n",
    "print(\"test\")"
   ]
  },
  {
   "cell_type": "code",
   "execution_count": null,
   "metadata": {},
   "outputs": [],
   "source": [
    "del embeddings"
   ]
  },
  {
   "cell_type": "code",
   "execution_count": 19,
   "metadata": {},
   "outputs": [],
   "source": [
    "torch.cuda.empty_cache()"
   ]
  },
  {
   "cell_type": "code",
   "execution_count": 22,
   "metadata": {},
   "outputs": [],
   "source": [
    "y_train = targets_to_tensor(y_train,'label')#.to(device, dtype=torch.float32)\n",
    "y_val = targets_to_tensor(y_val,'label')#.to(device, dtype=torch.float32)\n",
    "y_test = targets_to_tensor(y_test,'label')#.to(device, dtype=torch.float32)"
   ]
  },
  {
   "cell_type": "code",
   "execution_count": 23,
   "metadata": {},
   "outputs": [],
   "source": [
    "torch.save(X_train, 'data/X_train.pt')\n",
    "torch.save(y_train, 'data/y_train.pt')\n",
    "torch.save(X_test, 'data/X_test.pt')\n",
    "torch.save(X_val, 'data/X_val.pt')\n",
    "torch.save(y_val, 'data/y_val.pt')\n",
    "torch.save(y_test, 'data/y_test.pt')"
   ]
  },
  {
   "cell_type": "markdown",
   "metadata": {},
   "source": [
    "# load"
   ]
  },
  {
   "cell_type": "code",
   "execution_count": null,
   "metadata": {},
   "outputs": [],
   "source": [
    "import torch"
   ]
  },
  {
   "cell_type": "code",
   "execution_count": null,
   "metadata": {},
   "outputs": [],
   "source": [
    "X_train = torch.load('X_train.pt')\n",
    "y_train = torch.load('y_train.pt')\n",
    "X_val = torch.load('X_val.pt')\n",
    "y_val = torch.load('y_val.pt')"
   ]
  },
  {
   "cell_type": "code",
   "execution_count": 24,
   "metadata": {},
   "outputs": [
    {
     "data": {
      "text/plain": [
       "tensor(2.)"
      ]
     },
     "execution_count": 24,
     "metadata": {},
     "output_type": "execute_result"
    }
   ],
   "source": [
    "y_train.max()"
   ]
  },
  {
   "cell_type": "markdown",
   "metadata": {},
   "source": [
    "# now for sentence classification we will use KimCNN"
   ]
  },
  {
   "cell_type": "code",
   "execution_count": 161,
   "metadata": {},
   "outputs": [],
   "source": [
    "%reload_ext autoreload\n",
    "%autoreload 2\n",
    "\n",
    "from model import *"
   ]
  },
  {
   "cell_type": "code",
   "execution_count": 162,
   "metadata": {},
   "outputs": [
    {
     "data": {
      "text/plain": [
       "3"
      ]
     },
     "execution_count": 162,
     "metadata": {},
     "output_type": "execute_result"
    }
   ],
   "source": [
    "embed_num = X_train.shape[1]\n",
    "embed_dim = X_train.shape[2]\n",
    "class_num = len(y_train.unique())\n",
    "class_num"
   ]
  },
  {
   "cell_type": "code",
   "execution_count": 163,
   "metadata": {},
   "outputs": [
    {
     "data": {
      "text/plain": [
       "(30, 768, 3)"
      ]
     },
     "execution_count": 163,
     "metadata": {},
     "output_type": "execute_result"
    }
   ],
   "source": [
    "embed_num, embed_dim, class_num"
   ]
  },
  {
   "cell_type": "code",
   "execution_count": 164,
   "metadata": {},
   "outputs": [],
   "source": [
    "kernel_num = 3\n",
    "kernel_sizes = [2, 3, 4]\n",
    "dropout = 0.5\n",
    "kernel_num = 3\n",
    "kernel_sizes = [2, 3, 4]\n",
    "dropout = 0.5\n",
    "static = True\n",
    "model = KimCNN(\n",
    "    embed_num=embed_num,\n",
    "    embed_dim=embed_dim,\n",
    "    class_num=class_num,\n",
    "    kernel_num=kernel_num,\n",
    "    kernel_sizes=kernel_sizes,\n",
    "    dropout=dropout,\n",
    "    static=static,\n",
    ")"
   ]
  },
  {
   "cell_type": "code",
   "execution_count": 165,
   "metadata": {},
   "outputs": [],
   "source": [
    "#device = torch.device(\"cuda:0\" if torch.cuda.is_available() else \"cpu\")\n"
   ]
  },
  {
   "cell_type": "code",
   "execution_count": 166,
   "metadata": {},
   "outputs": [],
   "source": [
    "_, sums = y_train.unique(return_counts=True)\n",
    "sums = np.array(sums)\n",
    "weights=torch.Tensor(max(sums)/sums)"
   ]
  },
  {
   "cell_type": "code",
   "execution_count": 167,
   "metadata": {},
   "outputs": [],
   "source": [
    "n_epochs = 50\n",
    "batch_size = 10\n",
    "lr = 0.002\n",
    "optimizer = torch.optim.Adam(model.parameters(), lr=lr)\n",
    "loss_fn = nn.CrossEntropyLoss(weight=torch.Tensor(weights))"
   ]
  },
  {
   "cell_type": "code",
   "execution_count": null,
   "metadata": {},
   "outputs": [],
   "source": [
    "from time import time"
   ]
  },
  {
   "cell_type": "code",
   "execution_count": null,
   "metadata": {},
   "outputs": [
    {
     "name": "stdout",
     "output_type": "stream",
     "text": [
      "Epoch 1 Train loss: 0.98. Validation loss: 0.98. Elapsed time: 8.77s.\n",
      "Epoch 2 Train loss: 0.97. Validation loss: 0.95. Elapsed time: 9.03s.\n",
      "Epoch 3 Train loss: 0.94. Validation loss: 0.92. Elapsed time: 8.75s.\n",
      "Epoch 4 Train loss: 0.92. Validation loss: 0.91. Elapsed time: 9.48s.\n",
      "Epoch 5 Train loss: 0.91. Validation loss: 0.90. Elapsed time: 9.63s.\n",
      "Epoch 6 Train loss: 0.90. Validation loss: 0.90. Elapsed time: 9.54s.\n",
      "Epoch 7 Train loss: 0.89. Validation loss: 0.90. Elapsed time: 8.69s.\n",
      "Epoch 8 Train loss: 0.88. Validation loss: 0.90. Elapsed time: 8.64s.\n",
      "Epoch 9 Train loss: 0.88. Validation loss: 0.89. Elapsed time: 8.68s.\n",
      "Epoch 10 Train loss: 0.87. Validation loss: 0.90. Elapsed time: 8.84s.\n",
      "Epoch 11 Train loss: 0.86. Validation loss: 0.89. Elapsed time: 8.70s.\n",
      "Epoch 12 Train loss: 0.86. Validation loss: 0.89. Elapsed time: 8.67s.\n",
      "Epoch 13 Train loss: 0.85. Validation loss: 0.88. Elapsed time: 8.61s.\n",
      "Epoch 14 Train loss: 0.85. Validation loss: 0.88. Elapsed time: 8.54s.\n",
      "Epoch 15 Train loss: 0.84. Validation loss: 0.89. Elapsed time: 8.63s.\n",
      "Epoch 16 Train loss: 0.84. Validation loss: 0.89. Elapsed time: 8.72s.\n",
      "Epoch 17 Train loss: 0.84. Validation loss: 0.89. Elapsed time: 9.53s.\n",
      "Epoch 18 Train loss: 0.84. Validation loss: 0.89. Elapsed time: 9.57s.\n",
      "Epoch 19 Train loss: 0.83. Validation loss: 0.90. Elapsed time: 8.75s.\n",
      "Epoch 20 Train loss: 0.83. Validation loss: 0.89. Elapsed time: 8.71s.\n",
      "Epoch 21 Train loss: 0.83. Validation loss: 0.89. Elapsed time: 8.68s.\n",
      "Epoch 22 Train loss: 0.82. Validation loss: 0.90. Elapsed time: 8.63s.\n",
      "Epoch 23 Train loss: 0.82. Validation loss: 0.89. Elapsed time: 8.67s.\n",
      "Epoch 24 Train loss: 0.83. Validation loss: 0.90. Elapsed time: 8.60s.\n",
      "Epoch 25 Train loss: 0.83. Validation loss: 0.89. Elapsed time: 8.67s.\n",
      "Epoch 26 Train loss: 0.83. Validation loss: 0.90. Elapsed time: 8.75s.\n",
      "Epoch 27 Train loss: 0.82. Validation loss: 0.90. Elapsed time: 8.66s.\n",
      "Epoch 28 Train loss: 0.82. Validation loss: 0.90. Elapsed time: 8.73s.\n",
      "Epoch 29 Train loss: 0.81. Validation loss: 0.89. Elapsed time: 8.62s.\n",
      "Epoch 30 Train loss: 0.82. Validation loss: 0.89. Elapsed time: 8.62s.\n",
      "Epoch 31 Train loss: 0.82. Validation loss: 0.89. Elapsed time: 8.60s.\n",
      "Epoch 32 Train loss: 0.82. Validation loss: 0.89. Elapsed time: 8.67s.\n",
      "Epoch 33 Train loss: 0.82. Validation loss: 0.90. Elapsed time: 8.53s.\n",
      "Epoch 34 Train loss: 0.80. Validation loss: 0.90. Elapsed time: 8.53s.\n",
      "Epoch 35 Train loss: 0.81. Validation loss: 0.91. Elapsed time: 8.59s.\n"
     ]
    }
   ],
   "source": [
    "train_losses, val_losses = [], []\n",
    "\n",
    "for epoch in range(n_epochs):\n",
    "    start_time = time()\n",
    "    train_loss = 0    \n",
    "    model.train(True)\n",
    "    \n",
    "    for x_batch, y_batch, batch in generate_batch_data(X_train, y_train, batch_size):\n",
    "        #x_batch = x_batch.to(device)\n",
    "        #y_batch = y_batch.to(device)\n",
    "        y_pred = model(x_batch)\n",
    "        optimizer.zero_grad()\n",
    "        #print(y_pred)\n",
    "        loss = loss_fn(y_pred, y_batch.to(dtype=torch.long))\n",
    "        #loss = loss_fn(y_pred, dtype=torch.long))\n",
    "        loss.backward()\n",
    "        optimizer.step()\n",
    "        train_loss += loss.item()\n",
    "    train_loss /= batch\n",
    "    \n",
    "    train_losses.append(train_loss)\n",
    "    elapsed = time() - start_time\n",
    "    model.eval() # disable dropout for deterministic output\n",
    "    # deactivate autograd engine to reduce memory usage and speed up computations\n",
    "    \n",
    "    with torch.no_grad(): \n",
    "        val_loss, batch = 0, 1\n",
    "        for x_batch, y_batch, batch in generate_batch_data(X_val, y_val, batch_size):\n",
    "            y_pred = model(x_batch)\n",
    "            loss = loss_fn(y_pred, y_batch.to(dtype=torch.long))\n",
    "            val_loss += loss.item()\n",
    "        val_loss /= batch\n",
    "        val_losses.append(val_loss)    \n",
    "    print(\n",
    "    \"Epoch %d Train loss: %.2f. Validation loss: %.2f. Elapsed time: %.2fs.\"\n",
    "    % (epoch + 1, train_losses[-1], val_losses[-1], elapsed))"
   ]
  },
  {
   "cell_type": "code",
   "execution_count": 133,
   "metadata": {},
   "outputs": [
    {
     "data": {
      "text/plain": [
       "Text(0.5, 1.0, 'Losses')"
      ]
     },
     "execution_count": 133,
     "metadata": {},
     "output_type": "execute_result"
    },
    {
     "data": {
      "image/png": "[encoded data removed]",
      "text/plain": [
       "<Figure size 432x288 with 1 Axes>"
      ]
     },
     "metadata": {
      "needs_background": "light"
     },
     "output_type": "display_data"
    }
   ],
   "source": [
    "plt.plot(train_losses, label=\"Training loss\")\n",
    "plt.plot(val_losses, label=\"Validation loss\")\n",
    "plt.legend()\n",
    "plt.title(\"Losses\")"
   ]
  },
  {
   "cell_type": "code",
   "execution_count": 155,
   "metadata": {},
   "outputs": [],
   "source": [
    "model.eval() \n",
    "y_preds = []\n",
    "batch = 0\n",
    "for x_batch, y_batch, batch in generate_batch_data(X_test, y_test, batch_size):\n",
    "    y_pred = model(x_batch)\n",
    "    y_pred = torch.argmax(y_pred, dim=1)\n",
    "    y_preds.extend(y_pred.detach().numpy().tolist())\n",
    "y_preds_np = np.array(y_preds)"
   ]
  },
  {
   "cell_type": "code",
   "execution_count": 156,
   "metadata": {},
   "outputs": [
    {
     "ename": "IndexError",
     "evalue": "Dimension out of range (expected to be in range of [-1, 0], but got 1)",
     "output_type": "error",
     "traceback": [
      "\u001b[0;31m---------------------------------------------------------------------------\u001b[0m",
      "\u001b[0;31mIndexError\u001b[0m                                Traceback (most recent call last)",
      "\u001b[0;32m<ipython-input-156-5da731d44839>\u001b[0m in \u001b[0;36m<module>\u001b[0;34m\u001b[0m\n\u001b[0;32m----> 1\u001b[0;31m \u001b[0mtorch\u001b[0m\u001b[0;34m.\u001b[0m\u001b[0margmax\u001b[0m\u001b[0;34m(\u001b[0m\u001b[0my_pred\u001b[0m\u001b[0;34m,\u001b[0m \u001b[0mdim\u001b[0m\u001b[0;34m=\u001b[0m\u001b[0;36m1\u001b[0m\u001b[0;34m)\u001b[0m\u001b[0;34m\u001b[0m\u001b[0;34m\u001b[0m\u001b[0m\n\u001b[0m",
      "\u001b[0;31mIndexError\u001b[0m: Dimension out of range (expected to be in range of [-1, 0], but got 1)"
     ]
    }
   ],
   "source": [
    "torch.argmax(y_pred, dim=1)"
   ]
  },
  {
   "cell_type": "code",
   "execution_count": 157,
   "metadata": {},
   "outputs": [
    {
     "data": {
      "text/plain": [
       "(array([0, 1, 2]), array([932,  15,  53]))"
      ]
     },
     "execution_count": 157,
     "metadata": {},
     "output_type": "execute_result"
    }
   ],
   "source": [
    "np.unique(y_preds_np, return_counts=True)"
   ]
  },
  {
   "cell_type": "code",
   "execution_count": 158,
   "metadata": {},
   "outputs": [],
   "source": [
    "from sklearn.metrics import f1_score, accuracy_score, precision_score, recall_score, make_scorer"
   ]
  },
  {
   "cell_type": "code",
   "execution_count": 159,
   "metadata": {},
   "outputs": [
    {
     "data": {
      "text/plain": [
       "array([0, 1, 2])"
      ]
     },
     "execution_count": 159,
     "metadata": {},
     "output_type": "execute_result"
    }
   ],
   "source": [
    "np.unique(y_preds_np)"
   ]
  },
  {
   "cell_type": "code",
   "execution_count": 160,
   "metadata": {},
   "outputs": [
    {
     "data": {
      "text/plain": [
       "0.4925312532901212"
      ]
     },
     "execution_count": 160,
     "metadata": {},
     "output_type": "execute_result"
    }
   ],
   "source": [
    "f1_score(np.array(y_test), y_preds_np, average='macro')"
   ]
  },
  {
   "cell_type": "code",
   "execution_count": null,
   "metadata": {},
   "outputs": [],
   "source": []
  },
  {
   "cell_type": "code",
   "execution_count": null,
   "metadata": {},
   "outputs": [],
   "source": [
    "def load_trained_model(net, model_path, device):\n",
    "    net.load_state_dict(\n",
    "            torch.load(model_path, map_location=device))\n",
    "    print(\"[*] Loaded weights from {}\".format(model_path))\n",
    "        \n",
    "    net = net.to(device)\n",
    "    net.eval()\n",
    "    return net"
   ]
  }
 ],
 "metadata": {
  "kernelspec": {
   "display_name": "Python 3",
   "language": "python",
   "name": "python3"
  },
  "language_info": {
   "codemirror_mode": {
    "name": "ipython",
    "version": 3
   },
   "file_extension": ".py",
   "mimetype": "text/x-python",
   "name": "python",
   "nbconvert_exporter": "python",
   "pygments_lexer": "ipython3",
   "version": "3.7.5"
  }
 },
 "nbformat": 4,
 "nbformat_minor": 4
}
