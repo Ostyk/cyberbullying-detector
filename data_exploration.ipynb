{
 "cells": [
  {
   "cell_type": "markdown",
   "metadata": {},
   "source": [
    "# data reading"
   ]
  },
  {
   "cell_type": "code",
   "execution_count": 29,
   "metadata": {},
   "outputs": [],
   "source": [
    "%reload_ext autoreload\n",
    "%autoreload 2\n",
    "\n",
    "from utils import *\n",
    "import matplotlib.pyplot as plt\n",
    "import seaborn as sns\n",
    "from sklearn.metrics import f1_score, accuracy_score, precision_score, recall_score, make_scorer\n",
    "from sklearn.model_selection import train_test_split\n",
    "from time import time\n",
    "from tqdm import tqdm"
   ]
  },
  {
   "cell_type": "code",
   "execution_count": 30,
   "metadata": {},
   "outputs": [],
   "source": [
    "df_train = read_data('data/train', 'training')\n",
    "df_test = read_data('data/test', 'test')"
   ]
  },
  {
   "cell_type": "markdown",
   "metadata": {},
   "source": [
    "# data exploration"
   ]
  },
  {
   "cell_type": "code",
   "execution_count": 31,
   "metadata": {},
   "outputs": [],
   "source": [
    "df_train['label_text'] = df_train['label'].map({0: \"non-harmful\",\n",
    "                                                1: \"cyberbullying\",\n",
    "                                                2: \"hate-speech\"})"
   ]
  },
  {
   "cell_type": "code",
   "execution_count": 32,
   "metadata": {},
   "outputs": [
    {
     "data": {
      "image/png": "[encoded data removed]",
      "text/plain": [
       "<Figure size 504x504 with 1 Axes>"
      ]
     },
     "metadata": {},
     "output_type": "display_data"
    }
   ],
   "source": [
    "plt.figure(figsize = (7,7))\n",
    "sorted_counts = df_train['label_text'].value_counts()\n",
    "plt.pie(sorted_counts, labels = sorted_counts.index, startangle = 90, counterclock = False, wedgeprops = {'width' : 0.6},\n",
    "       autopct='%1.1f%%', pctdistance = 0.7, textprops = {'color': 'black', 'fontsize' : 13}, shadow = True,\n",
    "        colors = sns.color_palette(\"Paired\")[7:])\n",
    "plt.text(x = -0.35, y = 0, s = 'Total Tweets: {}'.format(df_train.shape[0]))\n",
    "plt.title('Distribution of Tweets in the Dataset', fontsize = 16);"
   ]
  },
  {
   "cell_type": "markdown",
   "metadata": {},
   "source": [
    "### create validation set for model validaiton during training"
   ]
  },
  {
   "cell_type": "code",
   "execution_count": 34,
   "metadata": {},
   "outputs": [
    {
     "name": "stdout",
     "output_type": "stream",
     "text": [
      "Number of rows in the total set: 10041\n",
      "Number of rows in the training set: 7530\n",
      "Number of rows in the test set: 1000\n"
     ]
    }
   ],
   "source": [
    "X_train, y_train = df_train[['text']], df_train[['label']]\n",
    "X_test, y_test = df_test[['text']], df_test[['label']]\n",
    "\n",
    "X_train, X_val, y_train, y_val = train_test_split(X_train, \n",
    "                                                 y_train, \n",
    "                                                 random_state=42)\n",
    "\n",
    "print('Number of rows in the total set: {}'.format(df_train.shape[0]))\n",
    "print('Number of rows in the training set: {}'.format(X_train.shape[0]))\n",
    "print('Number of rows in the test set: {}'.format(X_test.shape[0]))"
   ]
  },
  {
   "cell_type": "markdown",
   "metadata": {},
   "source": [
    "# data cleaning"
   ]
  },
  {
   "cell_type": "code",
   "execution_count": 35,
   "metadata": {},
   "outputs": [],
   "source": [
    "def clean_tweet(tweet):\n",
    "    \"\"\"\n",
    "    Function that cleans a single tweet\n",
    "    \"\"\"\n",
    "    entry = SentenceCleaner(tweet)\n",
    "    entry.html_tag()\n",
    "    entry.urls()\n",
    "    entry.handle()\n",
    "    entry.hashtag()\n",
    "    entry.tolowercase()\n",
    "    return entry.sentence\n",
    "\n",
    "def clean_set(df):\n",
    "    \"\"\"\n",
    "    Function that cleans an entire dataset \n",
    "    :param df: column of tweets\n",
    "    :return: cleaned column\n",
    "    \n",
    "    \"\"\""
   ]
  },
  {
   "cell_type": "code",
   "execution_count": 41,
   "metadata": {},
   "outputs": [],
   "source": [
    "X_train = X_train['text'].apply(clean_tweet)\n",
    "X_val = X_val['text'].apply(clean_tweet)\n",
    "X_test = X_test['text'].apply(clean_tweet)"
   ]
  },
  {
   "cell_type": "markdown",
   "metadata": {},
   "source": [
    "# pre-trained Polish Bert embeddings"
   ]
  },
  {
   "cell_type": "code",
   "execution_count": 45,
   "metadata": {},
   "outputs": [],
   "source": [
    "import torch\n",
    "from tokenizers import SentencePieceBPETokenizer\n",
    "from tokenizers.processors import RobertaProcessing\n",
    "from transformers import RobertaModel, AutoModel\n",
    "\n",
    "\n",
    "model_dir = \"roberta_base_transformers\"\n",
    "tokenizer = SentencePieceBPETokenizer(f\"{model_dir}/vocab.json\", f\"{model_dir}/merges.txt\")\n",
    "getattr(tokenizer, \"_tokenizer\").post_processor = RobertaProcessing(sep=(\"</s>\", 2), cls=(\"<s>\", 0))\n",
    "model: RobertaModel = AutoModel.from_pretrained(model_dir)"
   ]
  },
  {
   "cell_type": "code",
   "execution_count": 44,
   "metadata": {},
   "outputs": [],
   "source": [
    "max_seq = 100\n",
    "def tokenize_text(df, max_seq):\n",
    "    return [\n",
    "        tokenizer.encode(text, add_special_tokens=True).ids[:max_seq] for text in df.values\n",
    "    ]\n",
    "def pad_text(tokenized_text, max_seq):\n",
    "    return np.array([el + [0] * (max_seq - len(el)) for el in tokenized_text])\n",
    "def tokenize_and_pad_text(df, max_seq):\n",
    "    tokenized_text = tokenize_text(df, max_seq)\n",
    "    padded_text = pad_text(tokenized_text, max_seq)\n",
    "    return torch.tensor(padded_text)\n",
    "def targets_to_tensor(df, target_columns):\n",
    "    return torch.tensor(df[target_columns].values, dtype=torch.float32)"
   ]
  },
  {
   "cell_type": "code",
   "execution_count": 46,
   "metadata": {},
   "outputs": [
    {
     "name": "stdout",
     "output_type": "stream",
     "text": [
      "CPU times: user 2 µs, sys: 1e+03 ns, total: 3 µs\n",
      "Wall time: 5.25 µs\n"
     ]
    }
   ],
   "source": [
    "%time\n",
    "train_indices = tokenize_and_pad_text(X_train, max_seq)\n",
    "val_indices = tokenize_and_pad_text(X_val, max_seq)\n",
    "test_indices = tokenize_and_pad_text(X_test, max_seq)"
   ]
  },
  {
   "cell_type": "code",
   "execution_count": null,
   "metadata": {},
   "outputs": [],
   "source": [
    "%time\n",
    "\n",
    "with torch.no_grad():\n",
    "    X_train = model(train_indices)[0]  \n",
    "    X_val = model(val_indices)[0]\n",
    "    X_test = model(test_indices)[0]"
   ]
  },
  {
   "cell_type": "code",
   "execution_count": null,
   "metadata": {},
   "outputs": [],
   "source": []
  },
  {
   "cell_type": "code",
   "execution_count": 63,
   "metadata": {},
   "outputs": [
    {
     "data": {
      "text/plain": [
       "torch.Size([2, 100, 768])"
      ]
     },
     "execution_count": 63,
     "metadata": {},
     "output_type": "execute_result"
    }
   ],
   "source": [
    "model(test_indices[9:11])[0].shape"
   ]
  },
  {
   "cell_type": "code",
   "execution_count": 49,
   "metadata": {},
   "outputs": [
    {
     "data": {
      "text/plain": [
       "0      użytkownik spoko, jak im duda z morawieckim za...\n",
       "1      użytkownik użytkownik ale on tu nie miał szans...\n",
       "2      użytkownik no czy prezes nie miał racji, mówią...\n",
       "3      użytkownik użytkownik przecież to nawet nie je...\n",
       "4      użytkownik użytkownik owszem podatki tak. ale ...\n",
       "                             ...                        \n",
       "995    użytkownik olej jak kto sie ubiera, patrz na s...\n",
       "996    użytkownik to oczywiste byłyście dziś zajebist...\n",
       "997    użytkownik duda może się przyjąć w białym domk...\n",
       "998    użytkownik ty jesteś jebnięty, tła takiego par...\n",
       "999    użytkownik użytkownik ale to nie  o tych, ci s...\n",
       "Name: text, Length: 1000, dtype: object"
      ]
     },
     "execution_count": 49,
     "metadata": {},
     "output_type": "execute_result"
    }
   ],
   "source": [
    "X_test"
   ]
  },
  {
   "cell_type": "code",
   "execution_count": 50,
   "metadata": {},
   "outputs": [
    {
     "ename": "NameError",
     "evalue": "name 'output' is not defined",
     "output_type": "error",
     "traceback": [
      "\u001b[0;31m---------------------------------------------------------------------------\u001b[0m",
      "\u001b[0;31mNameError\u001b[0m                                 Traceback (most recent call last)",
      "\u001b[0;32m<ipython-input-50-961ed67232b2>\u001b[0m in \u001b[0;36m<module>\u001b[0;34m\u001b[0m\n\u001b[0;32m----> 1\u001b[0;31m \u001b[0moutput\u001b[0m\u001b[0;34m.\u001b[0m\u001b[0mshape\u001b[0m\u001b[0;34m\u001b[0m\u001b[0;34m\u001b[0m\u001b[0m\n\u001b[0m",
      "\u001b[0;31mNameError\u001b[0m: name 'output' is not defined"
     ]
    }
   ],
   "source": [
    "output.shape"
   ]
  },
  {
   "cell_type": "code",
   "execution_count": null,
   "metadata": {},
   "outputs": [],
   "source": [
    "%%time\n"
   ]
  },
  {
   "cell_type": "code",
   "execution_count": null,
   "metadata": {},
   "outputs": [],
   "source": [
    "x.shape"
   ]
  },
  {
   "cell_type": "code",
   "execution_count": null,
   "metadata": {},
   "outputs": [],
   "source": [
    "%%time\n",
    "\n",
    "for sentence in X_test[:100]:\n",
    "    input = tokenizer.encode(sentence)\n",
    "    output = model(torch.tensor([input.ids]))[0]\n",
    "    print(len(sentence.split(\" \")), output.shape)\n",
    "    break"
   ]
  },
  {
   "cell_type": "code",
   "execution_count": null,
   "metadata": {},
   "outputs": [],
   "source": [
    "input = tokenizer.encode(\"Hej tam\".split(\" \"))\n",
    "input"
   ]
  },
  {
   "cell_type": "code",
   "execution_count": null,
   "metadata": {},
   "outputs": [],
   "source": []
  },
  {
   "cell_type": "code",
   "execution_count": null,
   "metadata": {},
   "outputs": [],
   "source": []
  },
  {
   "cell_type": "code",
   "execution_count": null,
   "metadata": {},
   "outputs": [],
   "source": []
  },
  {
   "cell_type": "code",
   "execution_count": null,
   "metadata": {},
   "outputs": [],
   "source": []
  },
  {
   "cell_type": "code",
   "execution_count": null,
   "metadata": {},
   "outputs": [],
   "source": []
  },
  {
   "cell_type": "code",
   "execution_count": null,
   "metadata": {},
   "outputs": [],
   "source": []
  },
  {
   "cell_type": "code",
   "execution_count": null,
   "metadata": {},
   "outputs": [],
   "source": [
    "from torchnlp.word_to_vector import FastText\n",
    "vectors = FastText('pl')"
   ]
  },
  {
   "cell_type": "code",
   "execution_count": null,
   "metadata": {},
   "outputs": [],
   "source": [
    "# import fasttext\n",
    "# import fasttext.util\n",
    "\n",
    "# ft = fasttext.load_model('cc.en.300.bin')\n",
    "# print(ft.get_dimension())\n",
    "\n",
    "# fasttext.util.reduce_model(ft, 100)\n",
    "# print(ft.get_dimension())"
   ]
  },
  {
   "cell_type": "code",
   "execution_count": null,
   "metadata": {},
   "outputs": [],
   "source": [
    "max_ = 0\n",
    "for i in X_test:\n",
    "    if len(i.split(\" \"))>max_:\n",
    "        max_ = len(i.split(\" \"))"
   ]
  },
  {
   "cell_type": "code",
   "execution_count": null,
   "metadata": {},
   "outputs": [],
   "source": [
    "import fasttext\n",
    "import fasttext.util\n",
    "\n",
    "ft = fasttext.load_model('kgr10.plain.skipgram.dim100.neg10.bin')\n",
    "print(ft.get_dimension())\n",
    "\n"
   ]
  },
  {
   "cell_type": "code",
   "execution_count": null,
   "metadata": {},
   "outputs": [],
   "source": [
    "emoji[p] in ft.words"
   ]
  },
  {
   "cell_type": "code",
   "execution_count": null,
   "metadata": {},
   "outputs": [],
   "source": [
    "\n",
    "# # get all words from model\n",
    "# words = ft.get_words()\n",
    "\n",
    "# with open('cc.pl.100.bin','w') as file_out:\n",
    "    \n",
    "#     # the first line must contain number of total words and vector dimension\n",
    "#     file_out.write(str(len(words)) + \" \" + str(ft.get_dimension()) + \"\\n\")\n",
    "\n",
    "#     # line by line, you append vectors to VEC file\n",
    "#     for w in tqdm(range(len(words))):\n",
    "#         v = ft.get_word_vector(words[w])\n",
    "#         vstr = \"\"\n",
    "#         for vi in v:\n",
    "#             vstr += \" \" + str(vi)\n",
    "#         try:\n",
    "#             file_out.write(words[w] + vstr+'\\n')\n",
    "#         except:\n",
    "#             pass"
   ]
  }
 ],
 "metadata": {
  "kernelspec": {
   "display_name": "Python 3",
   "language": "python",
   "name": "python3"
  },
  "language_info": {
   "codemirror_mode": {
    "name": "ipython",
    "version": 3
   },
   "file_extension": ".py",
   "mimetype": "text/x-python",
   "name": "python",
   "nbconvert_exporter": "python",
   "pygments_lexer": "ipython3",
   "version": "3.7.5"
  }
 },
 "nbformat": 4,
 "nbformat_minor": 4
}
