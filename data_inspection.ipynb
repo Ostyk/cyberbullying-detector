{
 "cells": [
  {
   "cell_type": "code",
   "execution_count": null,
   "metadata": {},
   "outputs": [],
   "source": []
  },
  {
   "cell_type": "markdown",
   "metadata": {},
   "source": [
    "Task definition\n",
    "\n",
    "Although the problem of humiliating and slandering people through the Internet has existed almost as long as communication via the Internet between people, the appearance of new devices, such as smartphones and tablet computers, which allow using this medium not only at home, work or school but also in motion, has further exacerbated the problem. Especially recent decade, during which Social Networking Services (SNS), such as Facebook and Twitter, rapidly grew in popularity, has brought to light the problem of unethical behaviors in Internet environments, which has been greatly impairing public mental health in adults and, for the most, in younger users and children. It is the problem of cyberbullying (CB), defined as exploitation of open online means of communication, such as Internet forum boards, or SNS to convey harmful and disturbing information about private individuals, often children and students.\n",
    "\n",
    "To deal with the problem, researchers around the world have started studying the problem of cyberbullying with a goal to automatically detect Internet entries containing harmful information, and report them to SNS service providers for further analysis and deletion. After ten years of research [1], a sufficient knowledge base on this problem has been collected for languages of well-developed countries, such as the US, or Japan. Unfortunately, still close to nothing in this matter has been done for the Polish language. With this task, we aim at filling this gap.\n",
    "\n",
    "In this pilot task, the contestants will determine whether an Internet entry is classifiable as part of cyberbullying narration or not. The entries will contain tweets collected from openly available Twitter discussions. Since much of the problem of automatic cyberbullying detection often relies on feature selection and feature engineering [2], the tweets will be provided as such, with minimal preprocessing. The preprocessing, if used, will be applied mostly for cases when information about a private person is revealed to the public.\n",
    "\n",
    "The goal of the contestants will be to classify the tweets into cyberbullying/harmful and non-cyberbullying/non-harmful with the highest possible Precision, Recall, balanced F-score and Accuracy. In an additional sub-task, the contestants will differentiate between various types of cyberbullying, i.e., revealing of private information, personal threats, blackmails, ridiculing, gossip/insinuations, or accumulation of vulgarities and profane language."
   ]
  },
  {
   "cell_type": "markdown",
   "metadata": {},
   "source": [
    "-----------"
   ]
  },
  {
   "cell_type": "markdown",
   "metadata": {},
   "source": [
    "Task 6-2: Type of harmfulness\n",
    "\n",
    "In this task, the participants shall distinguish between three classes of tweets: 0 (non-harmful), 1 (cyberbullying), 2 (hate-speech). There are various definitions of both cyberbullying and hate-speech, some of them even putting those two phenomena in the same group. The specific conditions on which we based our annotations for both cyberbullying and hate-speech, which have been worked out during ten years of research [1] will be summarized in an introductory paper for the task, however, the main and definitive condition to distinguish the two is whether the harmful action is addressed towards a private person(s) (cyberbullying), or a public person/entity/large group (hate-speech).\n",
    "\n",
    "Task 6-2 training data: DOWNLOAD\n",
    "\n",
    "Evaluation\n",
    "\n",
    "File for evaluation should contain only tags (results of classification), one per line, aligned in the order corresponding to the order of sentences in test data (provided later). For evaluation use the attached Perl script in the following manner to calculate the results:\n",
    "\n",
    "perl evaluate2.pl results.txt > output.txt\n",
    "\n",
    "The Perl script calculates Micro-Average F-score (microF) and Macro-Average F-score (macroF). In choosing the winners we will look primarily microF to treat all instances equally since the number of instances is different for each class. Moreover, in the case of equal results for microF, the team with higher macroF will be chosen as the winner. The additional macroF, treating equally not all instances, but rather all classes, is used to provide additional insight into the results.\n",
    "Test data\n",
    "\n",
    "The test data is available here for DOWNLOAD.\n"
   ]
  },
  {
   "cell_type": "code",
   "execution_count": 1,
   "metadata": {},
   "outputs": [],
   "source": [
    "train_path = 'data/train'\n",
    "test_path = 'data/test'"
   ]
  },
  {
   "cell_type": "code",
   "execution_count": 2,
   "metadata": {},
   "outputs": [],
   "source": [
    "import pandas as pd\n",
    "import os\n",
    "import re "
   ]
  },
  {
   "cell_type": "code",
   "execution_count": 3,
   "metadata": {},
   "outputs": [],
   "source": [
    "train = dict()\n",
    "test = dict()\n",
    "\n",
    "train['tags'] = pd.read_csv(os.path.join(train_path, 'training_set_clean_only_tags.txt'), header=None)\n",
    "train['tags'].columns = ['label']\n",
    "\n",
    "train['text'] = pd.read_table(os.path.join(train_path, 'training_set_clean_only_text.txt'), header=None)\n",
    "train['text'].columns = ['text']\n",
    "\n",
    "\n",
    "train['tags']['label_text'] = train['tags']['label'].map({0: \"non-harmful\",\n",
    "                                                          1: \"cyberbullying\",\n",
    "                                                          2: \"hate-speech\"})\n",
    "\n",
    "df = pd.concat([train['tags'], train['text']], axis=1)"
   ]
  },
  {
   "cell_type": "code",
   "execution_count": null,
   "metadata": {},
   "outputs": [],
   "source": []
  },
  {
   "cell_type": "code",
   "execution_count": 4,
   "metadata": {},
   "outputs": [],
   "source": [
    "train = dict()\n",
    "test = dict()"
   ]
  },
  {
   "cell_type": "code",
   "execution_count": 5,
   "metadata": {},
   "outputs": [],
   "source": [
    "train['tags'] = pd.read_csv(os.path.join(train_path, 'training_set_clean_only_tags.txt'), header=None)\n",
    "train['tags'].columns = ['label']\n",
    "\n",
    "train['text'] = pd.read_table(os.path.join(train_path, 'training_set_clean_only_text.txt'), header=None)\n",
    "train['text'].columns = ['text']"
   ]
  },
  {
   "cell_type": "code",
   "execution_count": 6,
   "metadata": {},
   "outputs": [],
   "source": [
    "train['tags']['label_text'] = train['tags']['label'].map({0: \"non-harmful\",\n",
    "                                                          1: \"cyberbullying\",\n",
    "                                                          2: \"hate-speech\"})"
   ]
  },
  {
   "cell_type": "code",
   "execution_count": 7,
   "metadata": {},
   "outputs": [],
   "source": [
    "df = pd.concat([train['tags'], train['text']], axis=1)"
   ]
  },
  {
   "cell_type": "code",
   "execution_count": null,
   "metadata": {},
   "outputs": [],
   "source": []
  },
  {
   "cell_type": "code",
   "execution_count": null,
   "metadata": {},
   "outputs": [],
   "source": []
  },
  {
   "cell_type": "code",
   "execution_count": 8,
   "metadata": {},
   "outputs": [
    {
     "name": "stderr",
     "output_type": "stream",
     "text": [
      "/Users/ostyk/Desktop/agricola_moderna/env/lib/python3.7/site-packages/sklearn/externals/joblib/__init__.py:15: FutureWarning: sklearn.externals.joblib is deprecated in 0.21 and will be removed in 0.23. Please import this functionality directly from joblib, which can be installed with: pip install joblib. If this warning is raised when loading pickled models, you may need to re-serialize those models with scikit-learn 0.21+.\n",
      "  warnings.warn(msg, category=FutureWarning)\n"
     ]
    }
   ],
   "source": [
    "import numpy as np \n",
    "import pandas as pd \n",
    "import matplotlib.pyplot as plt\n",
    "import seaborn as sns\n",
    "from sklearn.model_selection import train_test_split, GridSearchCV\n",
    "from sklearn.feature_extraction.text import CountVectorizer\n",
    "from sklearn.metrics import f1_score, accuracy_score, precision_score, recall_score, make_scorer\n",
    "from sklearn.model_selection import train_test_split\n",
    "from time import time\n",
    "\n",
    "from sklearn.naive_bayes import MultinomialNB\n",
    "from sklearn.tree import DecisionTreeClassifier\n",
    "from sklearn.svm import LinearSVC\n",
    "from sklearn.ensemble import AdaBoostClassifier, RandomForestClassifier, BaggingClassifier\n",
    "from sklearn.linear_model import LogisticRegression, SGDClassifier\n",
    "from sklearn.neighbors import KNeighborsClassifier\n",
    "from sklearn.externals import joblib\n",
    "\n"
   ]
  },
  {
   "cell_type": "code",
   "execution_count": 9,
   "metadata": {},
   "outputs": [
    {
     "data": {
      "image/png": "[encoded data removed]",
      "text/plain": [
       "<Figure size 504x504 with 1 Axes>"
      ]
     },
     "metadata": {},
     "output_type": "display_data"
    }
   ],
   "source": [
    "plt.figure(figsize = (7,7))\n",
    "sorted_counts = df['label_text'].value_counts()\n",
    "plt.pie(sorted_counts, labels = sorted_counts.index, startangle = 90, counterclock = False, wedgeprops = {'width' : 0.6},\n",
    "       autopct='%1.1f%%', pctdistance = 0.7, textprops = {'color': 'black', 'fontsize' : 13}, shadow = True,\n",
    "        colors = sns.color_palette(\"Paired\")[7:])\n",
    "plt.text(x = -0.35, y = 0, s = 'Total Tweets: {}'.format(df.shape[0]))\n",
    "plt.title('Distribution of Tweets in the Dataset', fontsize = 16);"
   ]
  },
  {
   "cell_type": "code",
   "execution_count": 10,
   "metadata": {},
   "outputs": [],
   "source": [
    "s = df['text'].iloc[1]"
   ]
  },
  {
   "cell_type": "markdown",
   "metadata": {},
   "source": [
    "# cleaning twitter 'handles'"
   ]
  },
  {
   "cell_type": "code",
   "execution_count": 11,
   "metadata": {},
   "outputs": [],
   "source": [
    "def clean_text(pattern, text, tag):\n",
    "    \n",
    "    rgx_list = re.findall(pattern, text)\n",
    "    \n",
    "    new_text = text\n",
    "    for rgx_match in rgx_list:\n",
    "        new_text = re.sub(rgx_match, tag, new_text)\n",
    "    return new_text\n",
    "\n",
    "pattern =  '@[^\\s]+'"
   ]
  },
  {
   "cell_type": "code",
   "execution_count": 12,
   "metadata": {},
   "outputs": [],
   "source": [
    "df['text'] = df['text'].apply(lambda x: clean_text(pattern, x, '<TWITTER_HANDLE>'))"
   ]
  },
  {
   "cell_type": "code",
   "execution_count": 13,
   "metadata": {},
   "outputs": [
    {
     "name": "stdout",
     "output_type": "stream",
     "text": [
      "Number of rows in the total set: 10041\n",
      "Number of rows in the training set: 7530\n",
      "Number of rows in the test set: 2511\n"
     ]
    }
   ],
   "source": [
    "\n",
    "\n",
    "X_train, X_test, y_train, y_test = train_test_split(df['text'], \n",
    "                                                    df['label'], \n",
    "                                                    random_state=42)\n",
    "\n",
    "print('Number of rows in the total set: {}'.format(df.shape[0]))\n",
    "print('Number of rows in the training set: {}'.format(X_train.shape[0]))\n",
    "print('Number of rows in the test set: {}'.format(X_test.shape[0]))\n",
    "\n"
   ]
  },
  {
   "cell_type": "code",
   "execution_count": 14,
   "metadata": {},
   "outputs": [],
   "source": [
    "polish_stopwords = open(\"data/polish.stopwords.txt\").read().splitlines()\n",
    "# Instantiate the CountVectorizer method\n",
    "count_vector = CountVectorizer(stop_words = polish_stopwords, lowercase = True)"
   ]
  },
  {
   "cell_type": "code",
   "execution_count": null,
   "metadata": {},
   "outputs": [],
   "source": []
  },
  {
   "cell_type": "code",
   "execution_count": 15,
   "metadata": {},
   "outputs": [],
   "source": [
    "# Instantiate the CountVectorizer method\n",
    "count_vector = CountVectorizer(stop_words = polish_stopwords, lowercase = True)\n",
    "\n",
    "# Fit the training data and then return the matrix\n",
    "training_data = count_vector.fit_transform(X_train)\n",
    "\n",
    "# Transform testing data and return the matrix. Note we are not fitting the testing data into the CountVectorizer()\n",
    "testing_data = count_vector.transform(X_test)"
   ]
  },
  {
   "cell_type": "code",
   "execution_count": 16,
   "metadata": {},
   "outputs": [],
   "source": [
    "def pipeline(learner_list, X_train, y_train, X_test, y_test): \n",
    "    '''\n",
    "    inputs:\n",
    "       - learner: the learning algorithm to be trained and predicted on\n",
    "       - X_train: features training set\n",
    "       - y_train: income training set\n",
    "       - X_test: features testing set\n",
    "       - y_test: income testing set\n",
    "    '''\n",
    "    \n",
    "    # Get length of Training Data:\n",
    "    size = len(y_train)\n",
    "    \n",
    "    results = {}\n",
    "    final_results = []\n",
    "    \n",
    "    for learner in learner_list:\n",
    "        \n",
    "        # Store the learner name:\n",
    "        results['Algorithm'] = learner.__class__.__name__\n",
    "\n",
    "        # Fit the learner:\n",
    "        start = time() # Get start time\n",
    "        print(\"Training {}\".format(learner.__class__.__name__))\n",
    "        learner = learner.fit(X_train, y_train)\n",
    "        end = time() # Get end time\n",
    "\n",
    "        # Store the training time\n",
    "        results['Training Time'] = end - start\n",
    "\n",
    "        start = time() # Get start time\n",
    "        predictions_test = learner.predict(X_test)\n",
    "        predictions_train = learner.predict(X_train)\n",
    "        end = time() # Get end time\n",
    "\n",
    "        # Store the prediction time\n",
    "        results['Prediction Time'] = end - start\n",
    "\n",
    "        # Compute the Accuracy on Test Set\n",
    "        results['Accuracy: Test'] = accuracy_score(y_test, predictions_test)\n",
    "\n",
    "        # Compute the Accuracy on Training Set\n",
    "        results['Accuracy: Train'] = accuracy_score(y_train, predictions_train)\n",
    "\n",
    "        # Compute the F1 Score on Test Set\n",
    "        results['F1 Score: Test'] = f1_score(y_test, predictions_test, average='macro')\n",
    "\n",
    "        # Compute the F1 Score on Training Set\n",
    "        results['F1 Score: Train'] = f1_score(y_train, predictions_train, average='macro')\n",
    "\n",
    "        # Compute the Precision on Test Set\n",
    "        results['Precision: Test'] = precision_score(y_test, predictions_test,  average='macro')\n",
    "\n",
    "        # Compute the Precision on Training Set\n",
    "        results['Precision: Train'] = precision_score(y_train, predictions_train,  average='macro')\n",
    "\n",
    "        # Compute the Recall on Test Set\n",
    "        results['Recall: Test'] = recall_score(y_test, predictions_test,  average='macro')\n",
    "\n",
    "        # Compute the Recall on Training Set\n",
    "        results['Recall: Train'] = recall_score(y_train, predictions_train,  average='macro')\n",
    "\n",
    "        # Success\n",
    "        print(\"Training {} finished in {:.2f} sec\".format(learner.__class__.__name__, results['Training Time']))\n",
    "        print('----------------------------------------------------')\n",
    "        \n",
    "        final_results.append(results.copy())\n",
    "    # Return a dataframe of the results\n",
    "    return final_results\n"
   ]
  },
  {
   "cell_type": "code",
   "execution_count": 17,
   "metadata": {},
   "outputs": [],
   "source": [
    "from sklearn.preprocessing import StandardScaler\n",
    "from sklearn.pipeline import make_pipeline"
   ]
  },
  {
   "cell_type": "code",
   "execution_count": 18,
   "metadata": {},
   "outputs": [],
   "source": [
    "# clf = make_pipeline(StandardScaler(),\n",
    "#                     SGDClassifier(max_iter=1000, tol=1e-3))"
   ]
  },
  {
   "cell_type": "code",
   "execution_count": 19,
   "metadata": {},
   "outputs": [],
   "source": [
    "#clf.fit(X_test, y_test)"
   ]
  },
  {
   "cell_type": "code",
   "execution_count": null,
   "metadata": {},
   "outputs": [],
   "source": []
  },
  {
   "cell_type": "code",
   "execution_count": 20,
   "metadata": {},
   "outputs": [],
   "source": [
    "# make a list of models\n",
    "models = [MultinomialNB(),\n",
    "          DecisionTreeClassifier(),\n",
    "          LinearSVC(),\n",
    "          AdaBoostClassifier(), \n",
    "          RandomForestClassifier(), \n",
    "          BaggingClassifier(),\n",
    "          LogisticRegression(),\n",
    "          SGDClassifier(),\n",
    "          KNeighborsClassifier()]\n",
    "\n"
   ]
  },
  {
   "cell_type": "code",
   "execution_count": 21,
   "metadata": {},
   "outputs": [
    {
     "name": "stdout",
     "output_type": "stream",
     "text": [
      "Training MultinomialNB\n",
      "Training MultinomialNB finished in 0.01 sec\n",
      "----------------------------------------------------\n",
      "Training DecisionTreeClassifier\n",
      "Training DecisionTreeClassifier finished in 1.17 sec\n",
      "----------------------------------------------------\n",
      "Training LinearSVC\n",
      "Training LinearSVC finished in 0.32 sec\n",
      "----------------------------------------------------\n",
      "Training AdaBoostClassifier\n",
      "Training AdaBoostClassifier finished in 0.34 sec\n",
      "----------------------------------------------------\n",
      "Training RandomForestClassifier\n",
      "Training RandomForestClassifier finished in 3.00 sec\n",
      "----------------------------------------------------\n",
      "Training BaggingClassifier\n",
      "Training BaggingClassifier finished in 6.93 sec\n",
      "----------------------------------------------------\n",
      "Training LogisticRegression\n"
     ]
    },
    {
     "name": "stderr",
     "output_type": "stream",
     "text": [
      "/Users/ostyk/Desktop/agricola_moderna/env/lib/python3.7/site-packages/sklearn/linear_model/_logistic.py:940: ConvergenceWarning: lbfgs failed to converge (status=1):\n",
      "STOP: TOTAL NO. of ITERATIONS REACHED LIMIT.\n",
      "\n",
      "Increase the number of iterations (max_iter) or scale the data as shown in:\n",
      "    https://scikit-learn.org/stable/modules/preprocessing.html\n",
      "Please also refer to the documentation for alternative solver options:\n",
      "    https://scikit-learn.org/stable/modules/linear_model.html#logistic-regression\n",
      "  extra_warning_msg=_LOGISTIC_SOLVER_CONVERGENCE_MSG)\n"
     ]
    },
    {
     "name": "stdout",
     "output_type": "stream",
     "text": [
      "Training LogisticRegression finished in 0.78 sec\n",
      "----------------------------------------------------\n",
      "Training SGDClassifier\n",
      "Training SGDClassifier finished in 0.04 sec\n",
      "----------------------------------------------------\n",
      "Training KNeighborsClassifier\n",
      "Training KNeighborsClassifier finished in 0.00 sec\n",
      "----------------------------------------------------\n"
     ]
    },
    {
     "name": "stderr",
     "output_type": "stream",
     "text": [
      "/Users/ostyk/Desktop/agricola_moderna/env/lib/python3.7/site-packages/sklearn/metrics/_classification.py:1272: UndefinedMetricWarning: Precision is ill-defined and being set to 0.0 in labels with no predicted samples. Use `zero_division` parameter to control this behavior.\n",
      "  _warn_prf(average, modifier, msg_start, len(result))\n"
     ]
    }
   ],
   "source": [
    "re = pipeline(models, training_data, y_train, testing_data, y_test)\n",
    "results = pd.DataFrame(re)\n",
    "results = results.reindex(columns = ['Algorithm', 'Accuracy: Test', 'Precision: Test', 'Recall: Test', 'F1 Score: Test', 'Prediction Time',\n",
    "                          'Accuracy: Train', 'Precision: Train', 'Recall: Train', 'F1 Score: Train', 'Training Time'])\n"
   ]
  },
  {
   "cell_type": "code",
   "execution_count": 22,
   "metadata": {},
   "outputs": [],
   "source": [
    "results = results.reindex(columns = ['Algorithm', 'Accuracy: Test', 'Precision: Test', 'Recall: Test', 'F1 Score: Test', 'Prediction Time',\n",
    "                          'Accuracy: Train', 'Precision: Train', 'Recall: Train', 'F1 Score: Train', 'Training Time'])\n",
    "\n",
    "results.sort_values(by = 'F1 Score: Test', inplace = True, ascending = False)"
   ]
  },
  {
   "cell_type": "code",
   "execution_count": 23,
   "metadata": {},
   "outputs": [
    {
     "data": {
      "text/html": [
       "<div>\n",
       "<style scoped>\n",
       "    .dataframe tbody tr th:only-of-type {\n",
       "        vertical-align: middle;\n",
       "    }\n",
       "\n",
       "    .dataframe tbody tr th {\n",
       "        vertical-align: top;\n",
       "    }\n",
       "\n",
       "    .dataframe thead th {\n",
       "        text-align: right;\n",
       "    }\n",
       "</style>\n",
       "<table border=\"1\" class=\"dataframe\">\n",
       "  <thead>\n",
       "    <tr style=\"text-align: right;\">\n",
       "      <th></th>\n",
       "      <th>Algorithm</th>\n",
       "      <th>Accuracy: Test</th>\n",
       "      <th>Precision: Test</th>\n",
       "      <th>Recall: Test</th>\n",
       "      <th>F1 Score: Test</th>\n",
       "      <th>Prediction Time</th>\n",
       "      <th>Accuracy: Train</th>\n",
       "      <th>Precision: Train</th>\n",
       "      <th>Recall: Train</th>\n",
       "      <th>F1 Score: Train</th>\n",
       "      <th>Training Time</th>\n",
       "    </tr>\n",
       "  </thead>\n",
       "  <tbody>\n",
       "    <tr>\n",
       "      <th>0</th>\n",
       "      <td>LinearSVC</td>\n",
       "      <td>0.926722</td>\n",
       "      <td>0.624510</td>\n",
       "      <td>0.441352</td>\n",
       "      <td>0.480668</td>\n",
       "      <td>0.000847</td>\n",
       "      <td>0.999336</td>\n",
       "      <td>0.999062</td>\n",
       "      <td>0.995048</td>\n",
       "      <td>0.997046</td>\n",
       "      <td>0.323010</td>\n",
       "    </tr>\n",
       "    <tr>\n",
       "      <th>1</th>\n",
       "      <td>SGDClassifier</td>\n",
       "      <td>0.924333</td>\n",
       "      <td>0.569197</td>\n",
       "      <td>0.445343</td>\n",
       "      <td>0.478896</td>\n",
       "      <td>0.001653</td>\n",
       "      <td>0.998805</td>\n",
       "      <td>0.998170</td>\n",
       "      <td>0.991805</td>\n",
       "      <td>0.994966</td>\n",
       "      <td>0.038130</td>\n",
       "    </tr>\n",
       "    <tr>\n",
       "      <th>2</th>\n",
       "      <td>DecisionTreeClassifier</td>\n",
       "      <td>0.913580</td>\n",
       "      <td>0.516217</td>\n",
       "      <td>0.457502</td>\n",
       "      <td>0.477800</td>\n",
       "      <td>0.011996</td>\n",
       "      <td>0.999867</td>\n",
       "      <td>0.999952</td>\n",
       "      <td>0.998291</td>\n",
       "      <td>0.999119</td>\n",
       "      <td>1.174412</td>\n",
       "    </tr>\n",
       "    <tr>\n",
       "      <th>3</th>\n",
       "      <td>LogisticRegression</td>\n",
       "      <td>0.929510</td>\n",
       "      <td>0.804155</td>\n",
       "      <td>0.422115</td>\n",
       "      <td>0.464487</td>\n",
       "      <td>0.001041</td>\n",
       "      <td>0.984329</td>\n",
       "      <td>0.992780</td>\n",
       "      <td>0.857699</td>\n",
       "      <td>0.915182</td>\n",
       "      <td>0.775481</td>\n",
       "    </tr>\n",
       "    <tr>\n",
       "      <th>4</th>\n",
       "      <td>MultinomialNB</td>\n",
       "      <td>0.927519</td>\n",
       "      <td>0.585955</td>\n",
       "      <td>0.397632</td>\n",
       "      <td>0.425921</td>\n",
       "      <td>0.001225</td>\n",
       "      <td>0.953121</td>\n",
       "      <td>0.921406</td>\n",
       "      <td>0.616013</td>\n",
       "      <td>0.704959</td>\n",
       "      <td>0.005442</td>\n",
       "    </tr>\n",
       "    <tr>\n",
       "      <th>5</th>\n",
       "      <td>BaggingClassifier</td>\n",
       "      <td>0.918359</td>\n",
       "      <td>0.511636</td>\n",
       "      <td>0.401999</td>\n",
       "      <td>0.424823</td>\n",
       "      <td>0.097689</td>\n",
       "      <td>0.984064</td>\n",
       "      <td>0.990939</td>\n",
       "      <td>0.873348</td>\n",
       "      <td>0.925700</td>\n",
       "      <td>6.928473</td>\n",
       "    </tr>\n",
       "    <tr>\n",
       "      <th>6</th>\n",
       "      <td>RandomForestClassifier</td>\n",
       "      <td>0.922342</td>\n",
       "      <td>0.645624</td>\n",
       "      <td>0.384614</td>\n",
       "      <td>0.408584</td>\n",
       "      <td>1.024520</td>\n",
       "      <td>0.999867</td>\n",
       "      <td>0.999952</td>\n",
       "      <td>0.998291</td>\n",
       "      <td>0.999119</td>\n",
       "      <td>2.998014</td>\n",
       "    </tr>\n",
       "    <tr>\n",
       "      <th>7</th>\n",
       "      <td>AdaBoostClassifier</td>\n",
       "      <td>0.915970</td>\n",
       "      <td>0.589329</td>\n",
       "      <td>0.348144</td>\n",
       "      <td>0.346918</td>\n",
       "      <td>0.068849</td>\n",
       "      <td>0.918725</td>\n",
       "      <td>0.753664</td>\n",
       "      <td>0.406749</td>\n",
       "      <td>0.440955</td>\n",
       "      <td>0.335131</td>\n",
       "    </tr>\n",
       "    <tr>\n",
       "      <th>8</th>\n",
       "      <td>KNeighborsClassifier</td>\n",
       "      <td>0.917563</td>\n",
       "      <td>0.305854</td>\n",
       "      <td>0.333333</td>\n",
       "      <td>0.319003</td>\n",
       "      <td>2.576505</td>\n",
       "      <td>0.915538</td>\n",
       "      <td>0.971816</td>\n",
       "      <td>0.341206</td>\n",
       "      <td>0.334179</td>\n",
       "      <td>0.001692</td>\n",
       "    </tr>\n",
       "  </tbody>\n",
       "</table>\n",
       "</div>"
      ],
      "text/plain": [
       "                Algorithm  Accuracy: Test  Precision: Test  Recall: Test  \\\n",
       "0               LinearSVC        0.926722         0.624510      0.441352   \n",
       "1           SGDClassifier        0.924333         0.569197      0.445343   \n",
       "2  DecisionTreeClassifier        0.913580         0.516217      0.457502   \n",
       "3      LogisticRegression        0.929510         0.804155      0.422115   \n",
       "4           MultinomialNB        0.927519         0.585955      0.397632   \n",
       "5       BaggingClassifier        0.918359         0.511636      0.401999   \n",
       "6  RandomForestClassifier        0.922342         0.645624      0.384614   \n",
       "7      AdaBoostClassifier        0.915970         0.589329      0.348144   \n",
       "8    KNeighborsClassifier        0.917563         0.305854      0.333333   \n",
       "\n",
       "   F1 Score: Test  Prediction Time  Accuracy: Train  Precision: Train  \\\n",
       "0        0.480668         0.000847         0.999336          0.999062   \n",
       "1        0.478896         0.001653         0.998805          0.998170   \n",
       "2        0.477800         0.011996         0.999867          0.999952   \n",
       "3        0.464487         0.001041         0.984329          0.992780   \n",
       "4        0.425921         0.001225         0.953121          0.921406   \n",
       "5        0.424823         0.097689         0.984064          0.990939   \n",
       "6        0.408584         1.024520         0.999867          0.999952   \n",
       "7        0.346918         0.068849         0.918725          0.753664   \n",
       "8        0.319003         2.576505         0.915538          0.971816   \n",
       "\n",
       "   Recall: Train  F1 Score: Train  Training Time  \n",
       "0       0.995048         0.997046       0.323010  \n",
       "1       0.991805         0.994966       0.038130  \n",
       "2       0.998291         0.999119       1.174412  \n",
       "3       0.857699         0.915182       0.775481  \n",
       "4       0.616013         0.704959       0.005442  \n",
       "5       0.873348         0.925700       6.928473  \n",
       "6       0.998291         0.999119       2.998014  \n",
       "7       0.406749         0.440955       0.335131  \n",
       "8       0.341206         0.334179       0.001692  "
      ]
     },
     "execution_count": 23,
     "metadata": {},
     "output_type": "execute_result"
    }
   ],
   "source": [
    "results.reset_index(drop = True)"
   ]
  },
  {
   "cell_type": "code",
   "execution_count": 24,
   "metadata": {},
   "outputs": [
    {
     "data": {
      "text/html": [
       "<div>\n",
       "<style scoped>\n",
       "    .dataframe tbody tr th:only-of-type {\n",
       "        vertical-align: middle;\n",
       "    }\n",
       "\n",
       "    .dataframe tbody tr th {\n",
       "        vertical-align: top;\n",
       "    }\n",
       "\n",
       "    .dataframe thead th {\n",
       "        text-align: right;\n",
       "    }\n",
       "</style>\n",
       "<table border=\"1\" class=\"dataframe\">\n",
       "  <thead>\n",
       "    <tr style=\"text-align: right;\">\n",
       "      <th></th>\n",
       "      <th>Accuracy: Test</th>\n",
       "      <th>Precision: Test</th>\n",
       "      <th>Recall: Test</th>\n",
       "      <th>F1 Score: Test</th>\n",
       "      <th>Prediction Time</th>\n",
       "      <th>Accuracy: Train</th>\n",
       "      <th>Precision: Train</th>\n",
       "      <th>Recall: Train</th>\n",
       "      <th>F1 Score: Train</th>\n",
       "      <th>Training Time</th>\n",
       "    </tr>\n",
       "  </thead>\n",
       "  <tbody>\n",
       "    <tr>\n",
       "      <th>min</th>\n",
       "      <td>0.91358</td>\n",
       "      <td>0.305854</td>\n",
       "      <td>0.333333</td>\n",
       "      <td>0.319003</td>\n",
       "      <td>0.000847</td>\n",
       "      <td>0.915538</td>\n",
       "      <td>0.753664</td>\n",
       "      <td>0.341206</td>\n",
       "      <td>0.334179</td>\n",
       "      <td>0.001692</td>\n",
       "    </tr>\n",
       "    <tr>\n",
       "      <th>max</th>\n",
       "      <td>0.92951</td>\n",
       "      <td>0.804155</td>\n",
       "      <td>0.457502</td>\n",
       "      <td>0.480668</td>\n",
       "      <td>2.576505</td>\n",
       "      <td>0.999867</td>\n",
       "      <td>0.999952</td>\n",
       "      <td>0.998291</td>\n",
       "      <td>0.999119</td>\n",
       "      <td>6.928473</td>\n",
       "    </tr>\n",
       "  </tbody>\n",
       "</table>\n",
       "</div>"
      ],
      "text/plain": [
       "     Accuracy: Test  Precision: Test  Recall: Test  F1 Score: Test  \\\n",
       "min         0.91358         0.305854      0.333333        0.319003   \n",
       "max         0.92951         0.804155      0.457502        0.480668   \n",
       "\n",
       "     Prediction Time  Accuracy: Train  Precision: Train  Recall: Train  \\\n",
       "min         0.000847         0.915538          0.753664       0.341206   \n",
       "max         2.576505         0.999867          0.999952       0.998291   \n",
       "\n",
       "     F1 Score: Train  Training Time  \n",
       "min         0.334179       0.001692  \n",
       "max         0.999119       6.928473  "
      ]
     },
     "execution_count": 24,
     "metadata": {},
     "output_type": "execute_result"
    }
   ],
   "source": [
    "results.describe().loc[['min', 'max'], :]"
   ]
  },
  {
   "cell_type": "code",
   "execution_count": 25,
   "metadata": {},
   "outputs": [],
   "source": [
    "# store the best metric scores\n",
    "best_acc = results[results['Accuracy: Test'] == results['Accuracy: Test'].max()]\n",
    "best_f1 = results[results['F1 Score: Test'] == results['F1 Score: Test'].max()]\n",
    "best_precision = results[results['Precision: Test'] == results['Precision: Test'].max()]\n",
    "best_recall = results[results['Recall: Test'] == results['Recall: Test'].max()]\n"
   ]
  },
  {
   "cell_type": "code",
   "execution_count": 26,
   "metadata": {},
   "outputs": [
    {
     "data": {
      "image/png": "[encoded data removed]",
      "text/plain": [
       "<Figure size 1224x504 with 1 Axes>"
      ]
     },
     "metadata": {},
     "output_type": "display_data"
    }
   ],
   "source": [
    "sns.set_style('darkgrid')\n",
    "plt.figure(figsize = (17, 7))\n",
    "\n",
    "barWidth = 0.17\n",
    " \n",
    "# set height of bar\n",
    "bars1 = results['Accuracy: Test']\n",
    "bars2 = results['F1 Score: Test']\n",
    "bars3 = results['Precision: Test']\n",
    "bars4 = results['Recall: Test']\n",
    "\n",
    " \n",
    "# Set position of bar on X axis\n",
    "r1 = np.arange(len(bars1))\n",
    "r2 = [x + barWidth for x in r1]\n",
    "r3 = [x + barWidth for x in r2]\n",
    "r4 = [x + barWidth for x in r3]\n",
    "\n",
    " \n",
    "# Make the plot\n",
    "pal = sns.color_palette()\n",
    "plt.bar(r1, bars1, color= pal[0], width=barWidth, edgecolor='white', label='Test Accuracy')\n",
    "plt.bar(r2, bars2, color= pal[1], width=barWidth, edgecolor='white', label='F1 Score')\n",
    "plt.bar(r3, bars3, color= pal[2], width=barWidth, edgecolor='white', label='Precision')\n",
    "plt.bar(r4, bars4, color= pal[4], width=barWidth, edgecolor='white', label='Recall')\n",
    "\n",
    " \n",
    "# Add xticks on the middle of the group bars\n",
    "plt.xlabel('Algorithm', fontweight='bold', fontsize = 13)\n",
    "plt.ylabel('Score', fontweight = 'bold', fontsize = 13)\n",
    "plt.xticks([r + barWidth for r in range(len(bars1))], results['Algorithm'], rotation = 15, fontsize = 11)\n",
    " \n",
    "# Create legend & Show graphic\n",
    "plt.legend(fontsize = 13)\n",
    "\n",
    "textstr = '\\n'.join(['Best Accuracy: {:.3f} - {}'.format(best_acc['Accuracy: Test'].values[0], best_acc['Algorithm'].values[0]), \n",
    "                     'Best F1 Score: {:.3f} - {}'.format(best_f1['F1 Score: Test'].values[0], best_f1['Algorithm'].values[0]),\n",
    "                   'Best Precision: {:.3f} - {}'.format(best_precision['Precision: Test'].values[0], best_precision['Algorithm'].values[0]), \n",
    "                    'Best Recall: {:.3f} - {}'.format(best_recall['Recall: Test'].values[0], best_recall['Algorithm'].values[0])])\n",
    "props = dict(boxstyle='round', facecolor='lightgrey', alpha=0.5)\n",
    "\n",
    "#place a text box\n",
    "plt.text(9.2, 1, textstr, fontsize=14,\n",
    "        verticalalignment='top', bbox=props)\n",
    "\n",
    "plt.title('Classification Summary of Algorithms', fontweight = 'bold', fontsize = 17);"
   ]
  },
  {
   "cell_type": "code",
   "execution_count": 27,
   "metadata": {},
   "outputs": [],
   "source": [
    "# store the best/worst performance time\n",
    "best_train_time = results[results['Training Time'] == results['Training Time'].min()]\n",
    "worst_train_time = results[results['Training Time'] == results['Training Time'].max()]\n",
    "best_prediction_time = results[results['Prediction Time'] == results['Prediction Time'].min()]\n",
    "worst_prediction_time = results[results['Prediction Time'] == results['Prediction Time'].max()]"
   ]
  },
  {
   "cell_type": "code",
   "execution_count": 28,
   "metadata": {},
   "outputs": [
    {
     "data": {
      "image/png": "[encoded data removed]",
      "text/plain": [
       "<Figure size 864x504 with 1 Axes>"
      ]
     },
     "metadata": {},
     "output_type": "display_data"
    }
   ],
   "source": [
    "plt.figure(figsize = (12, 7))\n",
    "\n",
    "barWidth = 0.17\n",
    " \n",
    "# set height of bar\n",
    "bars1 = results['Training Time']\n",
    "bars2 = results['Prediction Time']\n",
    " \n",
    "# Set position of bar on X axis\n",
    "r1 = np.arange(len(bars1))\n",
    "r2 = [x + barWidth for x in r1]\n",
    " \n",
    "# Make the plot\n",
    "plt.bar(r1, bars1, color= pal[0], width=barWidth, edgecolor='white', label='Training Time')\n",
    "plt.bar(r2, bars2, color= pal[1], width=barWidth, edgecolor='white', label='Prediction Time')\n",
    " \n",
    "# Add xticks on the middle of the group bars\n",
    "plt.xlabel('Algorithm', fontweight='bold', fontsize = 13)\n",
    "plt.ylabel('Time (seconds)', fontweight = 'bold', fontsize = 13)\n",
    "plt.xticks([r + barWidth for r in range(len(bars1))], results['Algorithm'], rotation = 15, fontsize = 11)\n",
    " \n",
    "# Create legend & Show graphic\n",
    "plt.legend(fontsize = 13)\n",
    "\n",
    "textstr = '\\n'.join(('Best Training Time: {:.3f} - {}'.format(best_train_time['Training Time'].values[0], best_train_time['Algorithm'].values[0]), \n",
    "                     'Worst Training Time: {:.3f} - {}'.format(worst_train_time['Training Time'].values[0], worst_train_time['Algorithm'].values[0]),\n",
    "                   'Best Prediction Time: {:.3f} - {}'.format(best_prediction_time['Training Time'].values[0], best_prediction_time['Algorithm'].values[0]), \n",
    "                    'Worst Prediction Time: {:.3f} - {}'.format(worst_prediction_time['Training Time'].values[0], worst_prediction_time['Algorithm'].values[0])))\n",
    "\n",
    "props = dict(boxstyle='round', facecolor='lightgrey', alpha=0.5)\n",
    "\n",
    "#place a text box\n",
    "plt.text(9, 10, textstr, fontsize=14,  bbox=props)\n",
    "\n",
    "plt.title('Time Complexity of Algorithms', fontweight = 'bold', fontsize = 17);"
   ]
  },
  {
   "cell_type": "code",
   "execution_count": 29,
   "metadata": {},
   "outputs": [],
   "source": [
    "def param_tuning(clf, param_dict, X_train, y_train, X_test, y_test):\n",
    "    \n",
    "    # make scorer object\n",
    "    scorer = make_scorer(f1_score, average='macro')\n",
    "\n",
    "    # perform Grid Search for Parameters\n",
    "    grid_obj = GridSearchCV(estimator = clf,\n",
    "                           param_grid = param_dict,\n",
    "                           scoring = scorer,\n",
    "                           cv = 5)\n",
    "\n",
    "    grid_fit = grid_obj.fit(X_train, y_train)\n",
    "\n",
    "    # Get the estimator\n",
    "    best_clf = grid_fit.best_estimator_\n",
    "\n",
    "    # Make predictions using the unoptimized and model\n",
    "    predictions = (clf.fit(X_train, y_train)).predict(X_test)\n",
    "    best_predictions = best_clf.predict(X_test)\n",
    "    \n",
    "    # Report the before-and-afterscores\n",
    "    print(clf.__class__.__name__)\n",
    "    print(\"\\nOptimized Model\\n------\")\n",
    "    print(\"Best Parameters: {}\".format(grid_fit.best_params_))\n",
    "    print(\"Accuracy: {:.4f}\".format(accuracy_score(y_test, best_predictions)))\n",
    "    print(\"F1-score: {:.4f}\".format(f1_score(y_test, best_predictions, average='macro')))\n",
    "    print(\"Precision: {:.4f}\".format(precision_score(y_test, best_predictions, average='macro')))\n",
    "    print(\"Recall: {:.4f}\".format(recall_score(y_test, best_predictions, average='macro')))"
   ]
  },
  {
   "cell_type": "code",
   "execution_count": 30,
   "metadata": {},
   "outputs": [
    {
     "data": {
      "text/plain": [
       "5809    LUDZIE Z BYDGOSZCZY: NAJLEPSZA RESTAURACJA? Rt...\n",
       "5938    <TWITTER_HANDLE> Stałam na zewnątrz, ale mam c...\n",
       "2260    RT <TWITTER_HANDLE> Halicki: proszę nie mówić,...\n",
       "8833    <TWITTER_HANDLE> <TWITTER_HANDLE> Czyli tylko ...\n",
       "4513      <TWITTER_HANDLE> Już nic nie będzie takie samo.\n",
       "                              ...                        \n",
       "3723    Gdybyśmy wszyscy byli takimi mędrkami z mędrko...\n",
       "9657    <TWITTER_HANDLE> Napisałam ale on nie odpisał,...\n",
       "5549    <TWITTER_HANDLE> Ja mam wrażenie ze kiko niema...\n",
       "8166    <TWITTER_HANDLE> <TWITTER_HANDLE> Przewodniczą...\n",
       "8114    Krok na miarę jpk vat. Przychody z tyt VAT wzrosą\n",
       "Name: text, Length: 2511, dtype: object"
      ]
     },
     "execution_count": 30,
     "metadata": {},
     "output_type": "execute_result"
    }
   ],
   "source": [
    "X_test"
   ]
  },
  {
   "cell_type": "code",
   "execution_count": 31,
   "metadata": {},
   "outputs": [
    {
     "name": "stdout",
     "output_type": "stream",
     "text": [
      "SGDClassifier\n",
      "\n",
      "Optimized Model\n",
      "------\n",
      "Best Parameters: {'alpha': 0.0002, 'max_iter': 2500}\n",
      "Accuracy: 0.9303\n",
      "F1-score: 0.4911\n",
      "Precision: 0.7257\n",
      "Recall: 0.4447\n"
     ]
    }
   ],
   "source": [
    "# Dict for parameters\n",
    "param_grid = {\n",
    "    'alpha' : [0.095, 0.0002, 0.0003],\n",
    "    'max_iter' : [2500, 3000, 4000]\n",
    "}\n",
    "\n",
    "clf_sgd = SGDClassifier()\n",
    "\n",
    "param_tuning(clf_sgd, param_grid, training_data, y_train, testing_data, y_test)\n",
    "\n"
   ]
  },
  {
   "cell_type": "code",
   "execution_count": 33,
   "metadata": {},
   "outputs": [],
   "source": [
    "# # Dict for parameters\n",
    "# param_grid = {\n",
    "#     'C': [1, 1.2, 1.3, 1.4]\n",
    "# }\n",
    "\n",
    "# clf_lr = LogisticRegression()\n",
    "\n",
    "# param_tuning(clf_lr, param_grid, training_data, y_train, testing_data, y_test)"
   ]
  },
  {
   "cell_type": "code",
   "execution_count": 32,
   "metadata": {},
   "outputs": [],
   "source": [
    "# param_grid = {\n",
    "#     'min_samples_split': [2, 5, 8],\n",
    "#     'min_samples_leaf': [1, 2, 5, 8]\n",
    "# }\n",
    "\n",
    "# clf_dt = DecisionTreeClassifier()\n",
    "\n",
    "# param_tuning(clf_dt, param_grid, training_data, y_train, testing_data, y_test)\n"
   ]
  },
  {
   "cell_type": "code",
   "execution_count": 34,
   "metadata": {},
   "outputs": [],
   "source": [
    "\n",
    "\n",
    "# param_grid = {\n",
    "#     'min_samples_split': [2, 5, 8],\n",
    "#     'min_samples_leaf': [1, 2, 5, 8]\n",
    "# }\n",
    "\n",
    "# clf_dt = DecisionTreeClassifier()\n",
    "\n",
    "# param_tuning(clf_dt, param_grid, training_data, y_train, testing_data, y_test)\n",
    "\n"
   ]
  },
  {
   "cell_type": "code",
   "execution_count": 35,
   "metadata": {},
   "outputs": [],
   "source": [
    "# param_grid = {\n",
    "#     'C': [0.25, 0.5, 0.75, 1, 1.2]\n",
    "# }\n",
    "\n",
    "# clf_linsvc = LinearSVC()\n",
    "\n",
    "# param_tuning(clf_linsvc, param_grid, training_data, y_train, testing_data, y_test)\n"
   ]
  },
  {
   "cell_type": "code",
   "execution_count": 36,
   "metadata": {},
   "outputs": [
    {
     "data": {
      "text/plain": [
       "['cb_sgd_final.sav']"
      ]
     },
     "execution_count": 36,
     "metadata": {},
     "output_type": "execute_result"
    }
   ],
   "source": [
    "\n",
    "\n",
    "filename = 'cb_sgd_final.sav'\n",
    "joblib.dump(clf_sgd, filename)\n",
    "\n"
   ]
  },
  {
   "cell_type": "code",
   "execution_count": 46,
   "metadata": {},
   "outputs": [],
   "source": [
    "import pickle\n",
    "\n",
    "with open('finalized_model.pkl', 'wb') as fout:\n",
    "    pickle.dump((clf_sgd, count_vector), fout)\n"
   ]
  },
  {
   "cell_type": "code",
   "execution_count": 37,
   "metadata": {},
   "outputs": [],
   "source": [
    "\n",
    "import re"
   ]
  },
  {
   "cell_type": "code",
   "execution_count": 38,
   "metadata": {},
   "outputs": [],
   "source": [
    "test = dict()\n",
    "test_path = 'data/test'\n",
    "\n",
    "test['tags'] = pd.read_csv(os.path.join(test_path, 'test_set_only_tags.txt'), header=None)\n",
    "test['tags'].columns = ['label']\n",
    "\n",
    "test['text'] = pd.read_table(os.path.join(test_path, 'test_set_only_text.txt'), header=None)\n",
    "test['text'].columns = ['text']\n",
    "\n",
    "\n",
    "test['tags']['label_text'] = test['tags']['label'].map({0: \"non-harmful\",\n",
    "                                                          1: \"cyberbullying\",\n",
    "                                                          2: \"hate-speech\"})\n",
    "\n",
    "df = pd.concat([test['tags'], test['text']], axis=1)\n",
    "# df['text'] = df['text'].apply(lambda x: clean_text(pattern, x, '<TWITTER_HANDLE>'))\n",
    "\n",
    "# X_test = df['text']\n",
    "# y_test = df['label']"
   ]
  },
  {
   "cell_type": "code",
   "execution_count": 39,
   "metadata": {},
   "outputs": [],
   "source": [
    "df['text'] = df['text'].apply(lambda x: clean_text(pattern, x, '<TWITTER_HANDLE>'))"
   ]
  },
  {
   "cell_type": "code",
   "execution_count": 40,
   "metadata": {},
   "outputs": [],
   "source": [
    "test_data = count_vector.transform(df['text'])"
   ]
  },
  {
   "cell_type": "code",
   "execution_count": 41,
   "metadata": {},
   "outputs": [],
   "source": [
    "y_pred_test = clf_sgd.predict(test_data)"
   ]
  },
  {
   "cell_type": "code",
   "execution_count": 44,
   "metadata": {},
   "outputs": [
    {
     "data": {
      "text/plain": [
       "0.37010659591304756"
      ]
     },
     "execution_count": 44,
     "metadata": {},
     "output_type": "execute_result"
    }
   ],
   "source": [
    "f1_score(y_pred_test, df['label'], average='macro')"
   ]
  },
  {
   "cell_type": "code",
   "execution_count": 45,
   "metadata": {},
   "outputs": [
    {
     "data": {
      "text/plain": [
       "CountVectorizer(analyzer='word', binary=False, decode_error='strict',\n",
       "                dtype=<class 'numpy.int64'>, encoding='utf-8', input='content',\n",
       "                lowercase=True, max_df=1.0, max_features=None, min_df=1,\n",
       "                ngram_range=(1, 1), preprocessor=None,\n",
       "                stop_words=['a', 'aby', 'ach', 'acz', 'aczkolwiek', 'aj',\n",
       "                            'albo', 'ale', 'alez', 'ależ', 'ani', 'az', 'aż',\n",
       "                            'bardziej', 'bardzo', 'beda', 'bedzie', 'bez',\n",
       "                            'deda', 'będą', 'bede', 'będę', 'będzie', 'bo',\n",
       "                            'bowiem', 'by', 'byc', 'być', 'byl', 'byla', ...],\n",
       "                strip_accents=None, token_pattern='(?u)\\\\b\\\\w\\\\w+\\\\b',\n",
       "                tokenizer=None, vocabulary=None)"
      ]
     },
     "execution_count": 45,
     "metadata": {},
     "output_type": "execute_result"
    }
   ],
   "source": [
    "count_vector"
   ]
  },
  {
   "cell_type": "code",
   "execution_count": null,
   "metadata": {},
   "outputs": [],
   "source": []
  }
 ],
 "metadata": {
  "kernelspec": {
   "display_name": "Python 3",
   "language": "python",
   "name": "python3"
  },
  "language_info": {
   "codemirror_mode": {
    "name": "ipython",
    "version": 3
   },
   "file_extension": ".py",
   "mimetype": "text/x-python",
   "name": "python",
   "nbconvert_exporter": "python",
   "pygments_lexer": "ipython3",
   "version": "3.7.5"
  }
 },
 "nbformat": 4,
 "nbformat_minor": 4
}
